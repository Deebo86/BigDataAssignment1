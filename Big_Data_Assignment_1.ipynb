{
  "nbformat": 4,
  "nbformat_minor": 0,
  "metadata": {
    "colab": {
      "provenance": []
    },
    "kernelspec": {
      "name": "python3",
      "display_name": "Python 3"
    },
    "language_info": {
      "name": "python"
    }
  },
  "cells": [
    {
      "cell_type": "markdown",
      "source": [
        "Casandra Task"
      ],
      "metadata": {
        "id": "Nwag-zjacpYE"
      }
    },
    {
      "cell_type": "code",
      "source": [
        "#imports and installations\n",
        "!pip install cassandra-driver\n",
        "\n",
        "from cassandra.cluster import Cluster\n",
        "from cassandra.auth import PlainTextAuthProvider"
      ],
      "metadata": {
        "id": "ufkr8kVadED-"
      },
      "execution_count": null,
      "outputs": []
    },
    {
      "cell_type": "code",
      "source": [
        "#connection, keyspace and cluster creation\n",
        "cloud_config= {\n",
        "        'secure_connect_bundle': 'secure-connect-airbnb.zip' # replace <</PATH/TO/>> with the path where your downloaded bundle was downloaded (make sure to place this python file in the same place as well)\n",
        "}\n",
        "auth_provider = PlainTextAuthProvider('bMcMvTeAebuknzdNztsntuNy', 'kZKKKvkoBi8Ygpv1OPmpiX.QX1v2vi+1yUZQuoM.2OpB+l9RpKhQHUz3ofLdZNhz_XW3-_OJN83SOe.hYcAHP,BrygSTZbXddKNZ1IeAEiEb36gZ5af5M+kft5Ygkizh') # replace <<CLIENT ID>> and <<CLIENT SECRET>> with the ClientID and Client Secret from your generated token\n",
        "cluster = Cluster(cloud=cloud_config, auth_provider=auth_provider)\n",
        "session = cluster.connect()\n",
        "\n",
        "# -✔️-- Describing a keyspace\n",
        "\n",
        "session.set_keyspace('airbnb') # replace <<KEYSPACENAME>> with the name of the keyspace you created in DataStax\n",
        "row = cluster.metadata.keyspaces['airbnb'] # replace <<KEYSPACENAME>> with the name of the keyspace you created in DataStax\n",
        "\n",
        "from pprint import pprint\n",
        "pprint(vars(row))"
      ],
      "metadata": {
        "id": "o2o9dM7_dMYd"
      },
      "execution_count": null,
      "outputs": []
    },
    {
      "cell_type": "markdown",
      "source": [
        "Mongo Task\n"
      ],
      "metadata": {
        "id": "aFANBvAtcz3X"
      }
    },
    {
      "cell_type": "code",
      "source": [
        "#imports\n",
        "!pip install pymongo\n",
        "\n",
        "import pymongo\n",
        "from pymongo import MongoClient\n",
        "import urllib.parse\n",
        "from bson.json_util import dumps\n",
        "import pandas as pd\n"
      ],
      "metadata": {
        "id": "88c9qFWYdDwg"
      },
      "execution_count": null,
      "outputs": []
    }
  ]
}